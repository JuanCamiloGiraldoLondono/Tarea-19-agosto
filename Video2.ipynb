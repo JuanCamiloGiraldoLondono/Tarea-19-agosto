{
  "nbformat": 4,
  "nbformat_minor": 0,
  "metadata": {
    "colab": {
      "name": "Video2.ipynb",
      "provenance": []
    },
    "kernelspec": {
      "name": "python3",
      "display_name": "Python 3"
    },
    "language_info": {
      "name": "python"
    }
  },
  "cells": [
    {
      "cell_type": "code",
      "execution_count": null,
      "metadata": {
        "id": "RvVvcRDFyVgV"
      },
      "outputs": [],
      "source": [
        "from abc import ABC, abstractmethod\n",
        "\n",
        "class Switchable (ABC):\n",
        "  @abstractmethod\n",
        "  def encender(self):\n",
        "    pass\n",
        "\n",
        "  @abstractmethod\n",
        "  def apagar(self):\n",
        "    pass\n",
        "\n",
        "class Luz(Switchable):\n",
        "  def encender(self):\n",
        "    print(\"Luz: Encendida...\")\n",
        "\n",
        "  def apagar(self):\n",
        "    print(\"Luz: Apagada...\")\n",
        "\n",
        "class Ventilador(Switchable):\n",
        "  def encender(self):\n",
        "    print(\"Ventilador: Encendido...\")\n",
        "\n",
        "  def apagar(self):\n",
        "    print(\"Ventilador: Apagado...\")\n",
        "\n",
        "class ElectricPowerSwitch:\n",
        "  def __init__(self, c: Switchable):\n",
        "    self.client = c\n",
        "    self.on = False\n",
        "\n",
        "  def press(self):\n",
        "    if self.on:\n",
        "      self.client.apagar()\n",
        "      self.on = False\n",
        "\n",
        "    else:\n",
        "      self.client.encender()\n",
        "      self.on = True\n",
        "\n",
        "l = Luz()\n",
        "v = Ventilador()\n",
        "switch = ElectricPowerSwitch(v)\n",
        "switch.press()\n",
        "switch.press()\n"
      ]
    }
  ]
}