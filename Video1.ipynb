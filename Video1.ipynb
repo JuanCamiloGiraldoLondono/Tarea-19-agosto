{
  "nbformat": 4,
  "nbformat_minor": 0,
  "metadata": {
    "colab": {
      "name": "Video1.ipynb",
      "provenance": []
    },
    "kernelspec": {
      "name": "python3",
      "display_name": "Python 3"
    },
    "language_info": {
      "name": "python"
    }
  },
  "cells": [
    {
      "cell_type": "code",
      "execution_count": null,
      "metadata": {
        "id": "RvVvcRDFyVgV"
      },
      "outputs": [],
      "source": [
        "import string\n",
        "import random\n",
        "\n",
        "class InfoVehiculos:\n",
        "    marca: str\n",
        "    precios: int\n",
        "    electrico: bool\n",
        "\n",
        "    def __init__(self, marca, precios, electrico):\n",
        "        self.marca = marca\n",
        "        self.precios = precios\n",
        "        self.electrico = electrico\n",
        "\n",
        "    def impuesto(self):\n",
        "        porcentaje = 0.05\n",
        "        if self.electrico:\n",
        "            porcentaje = 0.02\n",
        "        return (porcentaje * self.precios)\n",
        "\n",
        "    def print(self):\n",
        "        print(f\"Marca: {self.marca}\")\n",
        "        print(f\"Impuesto: {self.impuesto()}\")\n",
        "\n",
        "class vehiculo:\n",
        "    id: str\n",
        "    licencia: str\n",
        "    info: InfoVehiculos\n",
        "\n",
        "    def __init__(self, id, licencia, info):\n",
        "        self.id = id\n",
        "        self.licencia = licencia\n",
        "        self.info = info\n",
        "\n",
        "    def print(self):\n",
        "        print(f\"ID: {self.id}\")\n",
        "        print(f\"Licencia: {self.licencia}\")\n",
        "        self.info.print()\n",
        "\n",
        "class RegistroVehiculo:\n",
        "    info_vehiculo = { }\n",
        "\n",
        "    def add_info_vehiculo(self, marca, precios, electrico):\n",
        "        self.info_vehiculo[marca] = InfoVehiculos(marca, precios, electrico)\n",
        "\n",
        "    def __init__(self):\n",
        "        self.add_info_vehiculo(\"Mazda\", 60000, True)\n",
        "        self.add_info_vehiculo(\"Kia\", 35000, True)\n",
        "        self.add_info_vehiculo(\"Renault\", 45000, False)\n",
        "\n",
        "    def generar_id(self,length):\n",
        "        return ''.join(random.choices(string.ascii_uppercase, k=length))\n",
        "\n",
        "    def generar_licencia(self,id):\n",
        "        return f\"{id[:2]}-{''.join(random.choices(string.digits, k=2))}-{''.join(random.choices(string.ascii_uppercase, k=2))}\"\n",
        "\n",
        "    def Crear_vehiculo(self, marca):\n",
        "        id_vehiculo = self.generar_id(12)\n",
        "        licencia = self.generar_licencia(id_vehiculo)\n",
        "        return vehiculo(id_vehiculo, licencia, self.info_vehiculo[marca])\n",
        "\n",
        "class Aplicacion:\n",
        "    def registro_vehiculo(self, marca:string):\n",
        "        registro = RegistroVehiculo()\n",
        "        return registro.Crear_vehiculo(marca)\n",
        "\n",
        "app = Aplicacion()\n",
        "vehiculo = app.registro_vehiculo(\"Kia\")\n",
        "vehiculo.print()\n"
      ]
    }
  ]
}